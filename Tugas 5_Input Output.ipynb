{
 "cells": [
  {
   "cell_type": "markdown",
   "id": "0b21ad13",
   "metadata": {},
   "source": [
    "<h1>Biodata</h1>"
   ]
  },
  {
   "cell_type": "code",
   "execution_count": 3,
   "id": "304f52f7",
   "metadata": {},
   "outputs": [
    {
     "name": "stdout",
     "output_type": "stream",
     "text": [
      "insert your name : Rini Nurulsona\n",
      "insert your nickname : Rini\n",
      "insert your birthday :06/juni/2004\n",
      "insert your major :Informatics Engineering\n",
      "insert your campus :Nusa Putra University\n",
      "hobi :Swimming\n",
      "Name : Rini Nurulsona\n",
      "Date : 06\n",
      "Month : juni\n",
      "Year : 2004\n",
      "Major : Informatics Engineering\n",
      "Campus :Nusa Putra University\n"
     ]
    }
   ],
   "source": [
    "name = input(\"insert your name : \")\n",
    "nickname = input(\"insert your nickname : \")\n",
    "birthday = input(\"insert your birthday :\")\n",
    "major = input(\"insert your major :\")\n",
    "campus = input(\"insert your campus :\")\n",
    "hobi = input('hobi :')\n",
    "\n",
    "birth = birthday.split('/')\n",
    "\n",
    "\n",
    "print(f\"Name : {name}\")\n",
    "print(f\"Date : {birth[0]}\")\n",
    "print(f\"Month : {birth[1]}\")\n",
    "print(f\"Year : {birth[2]}\")\n",
    "print(f\"Major : {major}\")\n",
    "print(f\"Campus :{campus}\")\n"
   ]
  },
  {
   "cell_type": "code",
   "execution_count": 2,
   "id": "1819a775",
   "metadata": {},
   "outputs": [
    {
     "name": "stdout",
     "output_type": "stream",
     "text": [
      "putra nusa\n",
      "NIVERSITAS NSA PTRA SKABMI\n",
      "SUKABUMI PUTRA NUSA UNIVERSITAS\n",
      "UNPS\n",
      "TAS  SA PU BUMI\n"
     ]
    }
   ],
   "source": [
    "kampus = \"Universitas Nusa Putra Sukabumi\"\n",
    "inisial = kampus.split()\n",
    "\n",
    "a = kampus[17:-9]+ \" \" +kampus[12:-15]\n",
    "print(a.lower())     \n",
    "b = kampus[1:13]+ kampus[14:18]+ kampus[19:24]+ kampus[-6:-3]+ kampus[-2:]\n",
    "print(b.upper())    \n",
    "c = kampus[-8:]+\" \" +kampus[17:-9]+\" \" +kampus[12:-15]+\" \" +kampus[:11]\n",
    "print(c.upper())\n",
    "print(f\"{inisial[0][0]}{inisial[1][0]}{inisial[2][0]}{inisial[3][0]}\")\n",
    "d = kampus[8:12]+\" \" +kampus[14:19]+\" \" +kampus[-4:]\n",
    "print(d.upper())"
   ]
  }
 ],
 "metadata": {
  "kernelspec": {
   "display_name": "Python 3 (ipykernel)",
   "language": "python",
   "name": "python3"
  },
  "language_info": {
   "codemirror_mode": {
    "name": "ipython",
    "version": 3
   },
   "file_extension": ".py",
   "mimetype": "text/x-python",
   "name": "python",
   "nbconvert_exporter": "python",
   "pygments_lexer": "ipython3",
   "version": "3.11.7"
  }
 },
 "nbformat": 4,
 "nbformat_minor": 5
}
